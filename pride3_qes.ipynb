{
  "nbformat": 4,
  "nbformat_minor": 0,
  "metadata": {
    "colab": {
      "provenance": [],
      "authorship_tag": "ABX9TyML7pSZg3Im81ylF7P2FI5I",
      "include_colab_link": true
    },
    "kernelspec": {
      "name": "python3",
      "display_name": "Python 3"
    },
    "language_info": {
      "name": "python"
    }
  },
  "cells": [
    {
      "cell_type": "markdown",
      "metadata": {
        "id": "view-in-github",
        "colab_type": "text"
      },
      "source": [
        "<a href=\"https://colab.research.google.com/github/AJAYMULAKALAPALLI/3/blob/main/pride3_qes.ipynb\" target=\"_parent\"><img src=\"https://colab.research.google.com/assets/colab-badge.svg\" alt=\"Open In Colab\"/></a>"
      ]
    },
    {
      "cell_type": "markdown",
      "source": [
        "creating a list"
      ],
      "metadata": {
        "id": "cdGf3MlNMNVL"
      }
    },
    {
      "cell_type": "code",
      "source": [
        "book_list=['ajay','jaswanth','chitti']\n",
        "print(book_list)\n",
        "type(book_list)"
      ],
      "metadata": {
        "colab": {
          "base_uri": "https://localhost:8080/"
        },
        "id": "fjtLwyYKMTCd",
        "outputId": "381a09af-fe8f-4178-de48-53c73ff116f2"
      },
      "execution_count": null,
      "outputs": [
        {
          "output_type": "stream",
          "name": "stdout",
          "text": [
            "['ajay', 'jaswanth', 'chitti']\n"
          ]
        },
        {
          "output_type": "execute_result",
          "data": {
            "text/plain": [
              "list"
            ]
          },
          "metadata": {},
          "execution_count": 2
        }
      ]
    },
    {
      "cell_type": "markdown",
      "source": [
        "to access list of elements"
      ],
      "metadata": {
        "id": "x9zz_lZ6Mu9U"
      }
    },
    {
      "cell_type": "code",
      "source": [
        "book_list=['ajay','jaswanth','chitti']\n",
        "print(book_list)\n",
        "print(book_list[1])"
      ],
      "metadata": {
        "colab": {
          "base_uri": "https://localhost:8080/"
        },
        "id": "LbkKlLtZM3id",
        "outputId": "95d464b7-a18b-4aee-e7c6-f92d1542bc0e"
      },
      "execution_count": null,
      "outputs": [
        {
          "output_type": "stream",
          "name": "stdout",
          "text": [
            "['ajay', 'jaswanth', 'chitti']\n",
            "jaswanth\n"
          ]
        }
      ]
    },
    {
      "cell_type": "markdown",
      "source": [
        "append"
      ],
      "metadata": {
        "id": "5Qz-e4XpNczB"
      }
    },
    {
      "cell_type": "code",
      "source": [
        "novels=['raghu','ravi','srinu']\n",
        "novels.append('sai')\n",
        "print(novels)"
      ],
      "metadata": {
        "colab": {
          "base_uri": "https://localhost:8080/"
        },
        "id": "4Qj842VsNe5m",
        "outputId": "164b47bf-741b-4dab-f470-d479145459f4"
      },
      "execution_count": null,
      "outputs": [
        {
          "output_type": "stream",
          "name": "stdout",
          "text": [
            "['raghu', 'ravi', 'srinu', 'sai']\n"
          ]
        }
      ]
    },
    {
      "cell_type": "markdown",
      "source": [
        "insert"
      ],
      "metadata": {
        "id": "z97BvYgYNtJV"
      }
    },
    {
      "cell_type": "code",
      "source": [
        "a=[1,2,3,4]\n",
        "print(a)\n",
        "a.insert(2,99)\n",
        "print(a)"
      ],
      "metadata": {
        "colab": {
          "base_uri": "https://localhost:8080/"
        },
        "id": "yIUJpFltNfbi",
        "outputId": "02250f94-b722-4d41-e8cc-5b894e83912c"
      },
      "execution_count": null,
      "outputs": [
        {
          "output_type": "stream",
          "name": "stdout",
          "text": [
            "[1, 2, 3, 4]\n",
            "[1, 2, 99, 3, 4]\n"
          ]
        }
      ]
    },
    {
      "cell_type": "markdown",
      "source": [
        "slicing"
      ],
      "metadata": {
        "id": "6KCQQThROW7B"
      }
    },
    {
      "cell_type": "code",
      "source": [
        "a=[1,2,3,4]\n",
        "print(a[1:3])"
      ],
      "metadata": {
        "colab": {
          "base_uri": "https://localhost:8080/"
        },
        "id": "dHnVTHv0OZye",
        "outputId": "2647ecc6-57b4-4bf5-feb1-c39b2b5883b3"
      },
      "execution_count": null,
      "outputs": [
        {
          "output_type": "stream",
          "name": "stdout",
          "text": [
            "[2, 3]\n"
          ]
        }
      ]
    },
    {
      "cell_type": "markdown",
      "source": [
        "length"
      ],
      "metadata": {
        "id": "RTQ0tOvpOqOj"
      }
    },
    {
      "cell_type": "code",
      "source": [
        "a=[1,2,3,4]\n",
        "print(len(a))"
      ],
      "metadata": {
        "colab": {
          "base_uri": "https://localhost:8080/"
        },
        "id": "QRhu9t2eOtM_",
        "outputId": "3c2ce102-9ed6-49a0-9b6c-5e630fd5192d"
      },
      "execution_count": null,
      "outputs": [
        {
          "output_type": "stream",
          "name": "stdout",
          "text": [
            "4\n"
          ]
        }
      ]
    },
    {
      "cell_type": "markdown",
      "source": [
        "creating empty list"
      ],
      "metadata": {
        "id": "8aQK6B16O7Qm"
      }
    },
    {
      "cell_type": "code",
      "source": [
        "a=[]\n",
        "print(a)"
      ],
      "metadata": {
        "colab": {
          "base_uri": "https://localhost:8080/"
        },
        "id": "Oyd1P9SRO94T",
        "outputId": "592e4654-1f1d-4488-b7d7-858b777e29c9"
      },
      "execution_count": null,
      "outputs": [
        {
          "output_type": "stream",
          "name": "stdout",
          "text": [
            "[]\n"
          ]
        }
      ]
    },
    {
      "cell_type": "markdown",
      "source": [
        "sort"
      ],
      "metadata": {
        "id": "hp-gEhwZPGPU"
      }
    },
    {
      "cell_type": "code",
      "source": [
        "prices=[3,7,5,1,4]\n",
        "prices.sort()\n",
        "print(prices)"
      ],
      "metadata": {
        "colab": {
          "base_uri": "https://localhost:8080/"
        },
        "id": "rqwaTyloPjIo",
        "outputId": "4070d0b5-9c13-424a-8397-a5af459a21d3"
      },
      "execution_count": null,
      "outputs": [
        {
          "output_type": "stream",
          "name": "stdout",
          "text": [
            "[1, 3, 4, 5, 7]\n"
          ]
        }
      ]
    },
    {
      "cell_type": "markdown",
      "source": [
        "count"
      ],
      "metadata": {
        "id": "N5KjsKd_P8nj"
      }
    },
    {
      "cell_type": "code",
      "source": [
        "a=[1,1,2,3,4]\n",
        "print(a.count(1))"
      ],
      "metadata": {
        "colab": {
          "base_uri": "https://localhost:8080/"
        },
        "id": "da_cgQ5ZP-sm",
        "outputId": "5af7e176-06b0-4940-ccc8-ba08b9ff6cff"
      },
      "execution_count": null,
      "outputs": [
        {
          "output_type": "stream",
          "name": "stdout",
          "text": [
            "2\n"
          ]
        }
      ]
    },
    {
      "cell_type": "markdown",
      "source": [
        "negative indexing"
      ],
      "metadata": {
        "id": "2WjcKjpNQNFB"
      }
    },
    {
      "cell_type": "code",
      "source": [
        "a=[1,2,3,4]\n",
        "print(a[-1])"
      ],
      "metadata": {
        "colab": {
          "base_uri": "https://localhost:8080/"
        },
        "id": "3x_rxCz4QPeO",
        "outputId": "2ae11969-43b9-427e-f716-a8034aeffdcc"
      },
      "execution_count": null,
      "outputs": [
        {
          "output_type": "stream",
          "name": "stdout",
          "text": [
            "4\n"
          ]
        }
      ]
    },
    {
      "cell_type": "markdown",
      "source": [
        "max and min"
      ],
      "metadata": {
        "id": "jZL2DkBKQni0"
      }
    },
    {
      "cell_type": "code",
      "source": [
        "prices=[100,56,76,98]\n",
        "max(prices)"
      ],
      "metadata": {
        "colab": {
          "base_uri": "https://localhost:8080/"
        },
        "id": "d50sKaekQpme",
        "outputId": "c3ff5c55-936d-43d2-cf3a-616dfe3fe714"
      },
      "execution_count": null,
      "outputs": [
        {
          "output_type": "execute_result",
          "data": {
            "text/plain": [
              "100"
            ]
          },
          "metadata": {},
          "execution_count": 14
        }
      ]
    },
    {
      "cell_type": "code",
      "source": [
        "prices=[100,56,76,98]\n",
        "min(prices)"
      ],
      "metadata": {
        "colab": {
          "base_uri": "https://localhost:8080/"
        },
        "id": "XhzTe35DRBTQ",
        "outputId": "22df48a4-1ead-4701-a7a5-a3195621d508"
      },
      "execution_count": null,
      "outputs": [
        {
          "output_type": "execute_result",
          "data": {
            "text/plain": [
              "56"
            ]
          },
          "metadata": {},
          "execution_count": 15
        }
      ]
    },
    {
      "cell_type": "markdown",
      "source": [
        "membership operator"
      ],
      "metadata": {
        "id": "A_18LBZPRVkY"
      }
    },
    {
      "cell_type": "code",
      "source": [
        "products=['ajay','ravi','jaswanth','chitti']\n",
        "print('ravi' in products)"
      ],
      "metadata": {
        "colab": {
          "base_uri": "https://localhost:8080/"
        },
        "id": "7oP-u2wKRYnm",
        "outputId": "e96c09fd-268f-457e-a33c-88c4c1bdf5cc"
      },
      "execution_count": null,
      "outputs": [
        {
          "output_type": "stream",
          "name": "stdout",
          "text": [
            "True\n"
          ]
        }
      ]
    },
    {
      "cell_type": "code",
      "source": [
        "prices=[2,4,6,99]\n",
        "print(2 not in prices)"
      ],
      "metadata": {
        "colab": {
          "base_uri": "https://localhost:8080/"
        },
        "id": "CCLT7H1PRqfz",
        "outputId": "53ab0904-60b1-4eaf-ceb8-3c1e24712c40"
      },
      "execution_count": null,
      "outputs": [
        {
          "output_type": "stream",
          "name": "stdout",
          "text": [
            "False\n"
          ]
        }
      ]
    }
  ]
}